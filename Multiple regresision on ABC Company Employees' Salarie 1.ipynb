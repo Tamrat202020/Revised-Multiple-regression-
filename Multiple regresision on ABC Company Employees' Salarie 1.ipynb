{
 "cells": [
  {
   "cell_type": "code",
   "execution_count": 5,
   "metadata": {},
   "outputs": [],
   "source": [
    "# import here ,the data readersfrom pandas library \n",
    "import pandas as pd\n",
    "import numpy as np\n",
    "import matplotlib.pyplot as plt\n",
    "%matplotlib inline \n",
    "from sklearn.model_selection import train_test_split\n",
    "import seaborn as sb\n",
    "from sklearn.linear_model import LinearRegression\n",
    "from sklearn.preprocessing import scale \n",
    "from collections import Counter \n",
    "from sklearn import linear_model\n",
    "import math  # to perform  mathematical calculations"
   ]
  },
  {
   "cell_type": "markdown",
   "metadata": {},
   "source": [
    "<h3>Importing the Raw  Data</h3>"
   ]
  },
  {
   "cell_type": "code",
   "execution_count": 6,
   "metadata": {},
   "outputs": [
    {
     "data": {
      "text/html": [
       "<div>\n",
       "<style scoped>\n",
       "    .dataframe tbody tr th:only-of-type {\n",
       "        vertical-align: middle;\n",
       "    }\n",
       "\n",
       "    .dataframe tbody tr th {\n",
       "        vertical-align: top;\n",
       "    }\n",
       "\n",
       "    .dataframe thead th {\n",
       "        text-align: right;\n",
       "    }\n",
       "</style>\n",
       "<table border=\"1\" class=\"dataframe\">\n",
       "  <thead>\n",
       "    <tr style=\"text-align: right;\">\n",
       "      <th></th>\n",
       "      <th>Emp_ID</th>\n",
       "      <th>Emp_Age</th>\n",
       "      <th>Expereince</th>\n",
       "      <th>Sex</th>\n",
       "      <th>Education_in_Year</th>\n",
       "      <th>Annual_Rate</th>\n",
       "      <th>Unnamed: 6</th>\n",
       "      <th>Unnamed: 7</th>\n",
       "      <th>Unnamed: 8</th>\n",
       "      <th>Unnamed: 9</th>\n",
       "      <th>Unnamed: 10</th>\n",
       "      <th>Unnamed: 11</th>\n",
       "      <th>Unnamed: 12</th>\n",
       "    </tr>\n",
       "  </thead>\n",
       "  <tbody>\n",
       "    <tr>\n",
       "      <th>0</th>\n",
       "      <td>2038</td>\n",
       "      <td>25</td>\n",
       "      <td>3</td>\n",
       "      <td>Male</td>\n",
       "      <td>2</td>\n",
       "      <td>47278.4</td>\n",
       "      <td>NaN</td>\n",
       "      <td>NaN</td>\n",
       "      <td>2</td>\n",
       "      <td>NaN</td>\n",
       "      <td>NaN</td>\n",
       "      <td>NaN</td>\n",
       "      <td>NaN</td>\n",
       "    </tr>\n",
       "    <tr>\n",
       "      <th>1</th>\n",
       "      <td>8703</td>\n",
       "      <td>32</td>\n",
       "      <td>3</td>\n",
       "      <td>Male</td>\n",
       "      <td>4</td>\n",
       "      <td>47902.4</td>\n",
       "      <td>NaN</td>\n",
       "      <td>NaN</td>\n",
       "      <td>1</td>\n",
       "      <td>NaN</td>\n",
       "      <td>NaN</td>\n",
       "      <td>NaN</td>\n",
       "      <td>NaN</td>\n",
       "    </tr>\n",
       "    <tr>\n",
       "      <th>2</th>\n",
       "      <td>8443</td>\n",
       "      <td>27</td>\n",
       "      <td>3</td>\n",
       "      <td>Male</td>\n",
       "      <td>4</td>\n",
       "      <td>47902.4</td>\n",
       "      <td>NaN</td>\n",
       "      <td>NaN</td>\n",
       "      <td>1</td>\n",
       "      <td>NaN</td>\n",
       "      <td>NaN</td>\n",
       "      <td>NaN</td>\n",
       "      <td>NaN</td>\n",
       "    </tr>\n",
       "    <tr>\n",
       "      <th>3</th>\n",
       "      <td>5114</td>\n",
       "      <td>29</td>\n",
       "      <td>3</td>\n",
       "      <td>Female</td>\n",
       "      <td>4</td>\n",
       "      <td>47902.4</td>\n",
       "      <td>NaN</td>\n",
       "      <td>NaN</td>\n",
       "      <td>1</td>\n",
       "      <td>NaN</td>\n",
       "      <td>NaN</td>\n",
       "      <td>NaN</td>\n",
       "      <td>NaN</td>\n",
       "    </tr>\n",
       "    <tr>\n",
       "      <th>4</th>\n",
       "      <td>1120</td>\n",
       "      <td>31</td>\n",
       "      <td>5</td>\n",
       "      <td>Male</td>\n",
       "      <td>2</td>\n",
       "      <td>40902.4</td>\n",
       "      <td>NaN</td>\n",
       "      <td>NaN</td>\n",
       "      <td>1</td>\n",
       "      <td>NaN</td>\n",
       "      <td>NaN</td>\n",
       "      <td>NaN</td>\n",
       "      <td>NaN</td>\n",
       "    </tr>\n",
       "  </tbody>\n",
       "</table>\n",
       "</div>"
      ],
      "text/plain": [
       "   Emp_ID   Emp_Age   Expereince      Sex  Education_in_Year   Annual_Rate  \\\n",
       "0     2038        25            3    Male                   2      47278.4   \n",
       "1     8703        32            3    Male                   4      47902.4   \n",
       "2     8443        27            3    Male                   4      47902.4   \n",
       "3     5114        29            3  Female                   4      47902.4   \n",
       "4     1120        31            5    Male                   2      40902.4   \n",
       "\n",
       "   Unnamed: 6  Unnamed: 7  Unnamed: 8  Unnamed: 9  Unnamed: 10  Unnamed: 11  \\\n",
       "0         NaN         NaN           2         NaN          NaN          NaN   \n",
       "1         NaN         NaN           1         NaN          NaN          NaN   \n",
       "2         NaN         NaN           1         NaN          NaN          NaN   \n",
       "3         NaN         NaN           1         NaN          NaN          NaN   \n",
       "4         NaN         NaN           1         NaN          NaN          NaN   \n",
       "\n",
       "  Unnamed: 12  \n",
       "0         NaN  \n",
       "1         NaN  \n",
       "2         NaN  \n",
       "3         NaN  \n",
       "4         NaN  "
      ]
     },
     "execution_count": 6,
     "metadata": {},
     "output_type": "execute_result"
    }
   ],
   "source": [
    "#read  file /retrieving the dataset\n",
    "data = pd.read_excel('empSalary.xlsx')   # Coma Separated Raw Data \n",
    "data.head(5)    # Partial view of the total data"
   ]
  },
  {
   "cell_type": "code",
   "execution_count": 7,
   "metadata": {},
   "outputs": [
    {
     "data": {
      "text/plain": [
       "(500, 13)"
      ]
     },
     "execution_count": 7,
     "metadata": {},
     "output_type": "execute_result"
    }
   ],
   "source": [
    "data.shape"
   ]
  },
  {
   "cell_type": "code",
   "execution_count": 8,
   "metadata": {},
   "outputs": [
    {
     "data": {
      "text/plain": [
       "Index(['Emp_ID ', 'Emp_Age ', 'Expereince ', 'Sex', 'Education_in_Year ',\n",
       "       'Annual_Rate', 'Unnamed: 6', 'Unnamed: 7', 'Unnamed: 8', 'Unnamed: 9',\n",
       "       'Unnamed: 10', 'Unnamed: 11', 'Unnamed: 12'],\n",
       "      dtype='object')"
      ]
     },
     "execution_count": 8,
     "metadata": {},
     "output_type": "execute_result"
    }
   ],
   "source": [
    "data.columns"
   ]
  },
  {
   "cell_type": "code",
   "execution_count": 9,
   "metadata": {},
   "outputs": [
    {
     "name": "stdout",
     "output_type": "stream",
     "text": [
      "<class 'pandas.core.frame.DataFrame'>\n",
      "RangeIndex: 500 entries, 0 to 499\n",
      "Data columns (total 13 columns):\n",
      "Emp_ID                500 non-null int64\n",
      "Emp_Age               500 non-null int64\n",
      "Expereince            500 non-null int64\n",
      "Sex                   500 non-null object\n",
      "Education_in_Year     500 non-null int64\n",
      "Annual_Rate           500 non-null float64\n",
      "Unnamed: 6            0 non-null float64\n",
      "Unnamed: 7            0 non-null float64\n",
      "Unnamed: 8            500 non-null int64\n",
      "Unnamed: 9            0 non-null float64\n",
      "Unnamed: 10           0 non-null float64\n",
      "Unnamed: 11           0 non-null float64\n",
      "Unnamed: 12           1 non-null object\n",
      "dtypes: float64(6), int64(5), object(2)\n",
      "memory usage: 50.9+ KB\n"
     ]
    }
   ],
   "source": [
    "data.info()"
   ]
  },
  {
   "cell_type": "code",
   "execution_count": 10,
   "metadata": {},
   "outputs": [
    {
     "data": {
      "text/plain": [
       "<bound method NDFrame.describe of      Emp_ID   Emp_Age   Expereince      Sex  Education_in_Year   Annual_Rate  \\\n",
       "0       2038        25            3    Male                   2      47278.4   \n",
       "1       8703        32            3    Male                   4      47902.4   \n",
       "2       8443        27            3    Male                   4      47902.4   \n",
       "3       5114        29            3  Female                   4      47902.4   \n",
       "4       1120        31            5    Male                   2      40902.4   \n",
       "5        153        33            5  Female                   2      44902.4   \n",
       "6       2422        28            6  Female                   2      47902.4   \n",
       "7       8112        37            2  Female                   4      48006.4   \n",
       "8       1390        30            2  Female                   4      48672.0   \n",
       "9       5293        35            2    Male                   4      48817.6   \n",
       "10      8849        30           10  Female                   2      48817.6   \n",
       "11      9427        35           11  Female                   2      49504.0   \n",
       "12      5651        45           12  Female                   2      49753.6   \n",
       "13      8447        35            1  Female                   6      49753.6   \n",
       "14      2573        45            1    Male                   6      49753.6   \n",
       "15      6728        47           14    Male                   4      59753.6   \n",
       "16      5736        49           13    Male                   4      60648.0   \n",
       "17      5672        53           14  Female                   4      60793.6   \n",
       "18      3704        55           16    Male                   2      61292.8   \n",
       "19      7661        58           15    Male                   6      82368.0   \n",
       "20      3423        25            3  Female                   2      47278.4   \n",
       "21      7462        32            3    Male                   4      47902.4   \n",
       "22      5108        27            3    Male                   4      47902.4   \n",
       "23      2116        29            3  Female                   4      47902.4   \n",
       "24      7021        31            5    Male                   2      40902.4   \n",
       "25      3173        33            5  Female                   2      44902.4   \n",
       "26      1516        28            6  Female                   2      47902.4   \n",
       "27      5481        37            2    Male                   4      48006.4   \n",
       "28      3533        30            2  Female                   4      48672.0   \n",
       "29      9605        35            2    Male                   4      48817.6   \n",
       "..       ...       ...          ...     ...                 ...          ...   \n",
       "470     7583        30           10    Male                   2      48817.6   \n",
       "471     1120        35           11  Female                   2      49504.0   \n",
       "472     8386        45           12  Female                   2      49753.6   \n",
       "473     6082        35            1  Female                   6      49753.6   \n",
       "474     2354        45            1    Male                   6      49753.6   \n",
       "475     3000        47           14    Male                   4      59753.6   \n",
       "476     5917        49           13    Male                   4      60648.0   \n",
       "477     9306        53           14  Female                   4      60793.6   \n",
       "478     8754        55           16    Male                   2      61292.8   \n",
       "479     2118        58           15    Male                   6      82368.0   \n",
       "480     1585        25            3    Male                   2      47278.4   \n",
       "481     2920        32            3    Male                   4      47902.4   \n",
       "482     5690        27            3    Male                   4      47902.4   \n",
       "483     7902        29            3    Male                   4      47902.4   \n",
       "484     5569        31            5  Female                   2      40902.4   \n",
       "485     6774        33            5    Male                   2      44902.4   \n",
       "486     4719        28            6  Female                   2      47902.4   \n",
       "487     1502        37            2    Male                   4      48006.4   \n",
       "488     2801        30            2  Female                   4      48672.0   \n",
       "489     4538        35            2    Male                   4      48817.6   \n",
       "490     3850        30           10  Female                   2      48817.6   \n",
       "491     8483        35           11  Female                   2      49504.0   \n",
       "492     5291        45           12    Male                   2      49753.6   \n",
       "493     4204        35            1    Male                   6      49753.6   \n",
       "494     9735        45            1    Male                   6      49753.6   \n",
       "495     4899        47           14  Female                   4      59753.6   \n",
       "496     1384        49           13    Male                   4      60648.0   \n",
       "497     1001        53           14  Female                   4      60793.6   \n",
       "498     4212        55           16    Male                   2      61292.8   \n",
       "499     8630        58           15  Female                   6      82368.0   \n",
       "\n",
       "     Unnamed: 6  Unnamed: 7  Unnamed: 8  Unnamed: 9  Unnamed: 10  Unnamed: 11  \\\n",
       "0           NaN         NaN           2         NaN          NaN          NaN   \n",
       "1           NaN         NaN           1         NaN          NaN          NaN   \n",
       "2           NaN         NaN           1         NaN          NaN          NaN   \n",
       "3           NaN         NaN           1         NaN          NaN          NaN   \n",
       "4           NaN         NaN           1         NaN          NaN          NaN   \n",
       "5           NaN         NaN           2         NaN          NaN          NaN   \n",
       "6           NaN         NaN           1         NaN          NaN          NaN   \n",
       "7           NaN         NaN           2         NaN          NaN          NaN   \n",
       "8           NaN         NaN           2         NaN          NaN          NaN   \n",
       "9           NaN         NaN           2         NaN          NaN          NaN   \n",
       "10          NaN         NaN           1         NaN          NaN          NaN   \n",
       "11          NaN         NaN           1         NaN          NaN          NaN   \n",
       "12          NaN         NaN           2         NaN          NaN          NaN   \n",
       "13          NaN         NaN           2         NaN          NaN          NaN   \n",
       "14          NaN         NaN           1         NaN          NaN          NaN   \n",
       "15          NaN         NaN           1         NaN          NaN          NaN   \n",
       "16          NaN         NaN           1         NaN          NaN          NaN   \n",
       "17          NaN         NaN           1         NaN          NaN          NaN   \n",
       "18          NaN         NaN           1         NaN          NaN          NaN   \n",
       "19          NaN         NaN           1         NaN          NaN          NaN   \n",
       "20          NaN         NaN           2         NaN          NaN          NaN   \n",
       "21          NaN         NaN           2         NaN          NaN          NaN   \n",
       "22          NaN         NaN           2         NaN          NaN          NaN   \n",
       "23          NaN         NaN           2         NaN          NaN          NaN   \n",
       "24          NaN         NaN           1         NaN          NaN          NaN   \n",
       "25          NaN         NaN           2         NaN          NaN          NaN   \n",
       "26          NaN         NaN           2         NaN          NaN          NaN   \n",
       "27          NaN         NaN           1         NaN          NaN          NaN   \n",
       "28          NaN         NaN           2         NaN          NaN          NaN   \n",
       "29          NaN         NaN           1         NaN          NaN          NaN   \n",
       "..          ...         ...         ...         ...          ...          ...   \n",
       "470         NaN         NaN           1         NaN          NaN          NaN   \n",
       "471         NaN         NaN           2         NaN          NaN          NaN   \n",
       "472         NaN         NaN           2         NaN          NaN          NaN   \n",
       "473         NaN         NaN           2         NaN          NaN          NaN   \n",
       "474         NaN         NaN           2         NaN          NaN          NaN   \n",
       "475         NaN         NaN           1         NaN          NaN          NaN   \n",
       "476         NaN         NaN           2         NaN          NaN          NaN   \n",
       "477         NaN         NaN           2         NaN          NaN          NaN   \n",
       "478         NaN         NaN           2         NaN          NaN          NaN   \n",
       "479         NaN         NaN           2         NaN          NaN          NaN   \n",
       "480         NaN         NaN           1         NaN          NaN          NaN   \n",
       "481         NaN         NaN           2         NaN          NaN          NaN   \n",
       "482         NaN         NaN           2         NaN          NaN          NaN   \n",
       "483         NaN         NaN           2         NaN          NaN          NaN   \n",
       "484         NaN         NaN           2         NaN          NaN          NaN   \n",
       "485         NaN         NaN           2         NaN          NaN          NaN   \n",
       "486         NaN         NaN           1         NaN          NaN          NaN   \n",
       "487         NaN         NaN           2         NaN          NaN          NaN   \n",
       "488         NaN         NaN           1         NaN          NaN          NaN   \n",
       "489         NaN         NaN           1         NaN          NaN          NaN   \n",
       "490         NaN         NaN           1         NaN          NaN          NaN   \n",
       "491         NaN         NaN           1         NaN          NaN          NaN   \n",
       "492         NaN         NaN           1         NaN          NaN          NaN   \n",
       "493         NaN         NaN           1         NaN          NaN          NaN   \n",
       "494         NaN         NaN           2         NaN          NaN          NaN   \n",
       "495         NaN         NaN           2         NaN          NaN          NaN   \n",
       "496         NaN         NaN           1         NaN          NaN          NaN   \n",
       "497         NaN         NaN           1         NaN          NaN          NaN   \n",
       "498         NaN         NaN           2         NaN          NaN          NaN   \n",
       "499         NaN         NaN           2         NaN          NaN          NaN   \n",
       "\n",
       "    Unnamed: 12  \n",
       "0           NaN  \n",
       "1           NaN  \n",
       "2           NaN  \n",
       "3           NaN  \n",
       "4           NaN  \n",
       "5           NaN  \n",
       "6           NaN  \n",
       "7           NaN  \n",
       "8           NaN  \n",
       "9           NaN  \n",
       "10          NaN  \n",
       "11          NaN  \n",
       "12          NaN  \n",
       "13          NaN  \n",
       "14          NaN  \n",
       "15          NaN  \n",
       "16               \n",
       "17          NaN  \n",
       "18          NaN  \n",
       "19          NaN  \n",
       "20          NaN  \n",
       "21          NaN  \n",
       "22          NaN  \n",
       "23          NaN  \n",
       "24          NaN  \n",
       "25          NaN  \n",
       "26          NaN  \n",
       "27          NaN  \n",
       "28          NaN  \n",
       "29          NaN  \n",
       "..          ...  \n",
       "470         NaN  \n",
       "471         NaN  \n",
       "472         NaN  \n",
       "473         NaN  \n",
       "474         NaN  \n",
       "475         NaN  \n",
       "476         NaN  \n",
       "477         NaN  \n",
       "478         NaN  \n",
       "479         NaN  \n",
       "480         NaN  \n",
       "481         NaN  \n",
       "482         NaN  \n",
       "483         NaN  \n",
       "484         NaN  \n",
       "485         NaN  \n",
       "486         NaN  \n",
       "487         NaN  \n",
       "488         NaN  \n",
       "489         NaN  \n",
       "490         NaN  \n",
       "491         NaN  \n",
       "492         NaN  \n",
       "493         NaN  \n",
       "494         NaN  \n",
       "495         NaN  \n",
       "496         NaN  \n",
       "497         NaN  \n",
       "498         NaN  \n",
       "499         NaN  \n",
       "\n",
       "[500 rows x 13 columns]>"
      ]
     },
     "execution_count": 10,
     "metadata": {},
     "output_type": "execute_result"
    }
   ],
   "source": [
    "data.describe"
   ]
  },
  {
   "cell_type": "code",
   "execution_count": 11,
   "metadata": {},
   "outputs": [
    {
     "name": "stdout",
     "output_type": "stream",
     "text": [
      "<class 'pandas.core.frame.DataFrame'>\n",
      "RangeIndex: 500 entries, 0 to 499\n",
      "Data columns (total 13 columns):\n",
      "Emp_ID                500 non-null int64\n",
      "Emp_Age               500 non-null int64\n",
      "Expereince            500 non-null int64\n",
      "Sex                   500 non-null object\n",
      "Education_in_Year     500 non-null int64\n",
      "Annual_Rate           500 non-null float64\n",
      "Unnamed: 6            0 non-null float64\n",
      "Unnamed: 7            0 non-null float64\n",
      "Unnamed: 8            500 non-null int64\n",
      "Unnamed: 9            0 non-null float64\n",
      "Unnamed: 10           0 non-null float64\n",
      "Unnamed: 11           0 non-null float64\n",
      "Unnamed: 12           1 non-null object\n",
      "dtypes: float64(6), int64(5), object(2)\n",
      "memory usage: 50.9+ KB\n"
     ]
    }
   ],
   "source": [
    "data.info() # provides detail information about the data such as the features , target, data types ..whether it is null. "
   ]
  },
  {
   "cell_type": "markdown",
   "metadata": {},
   "source": [
    "<h4>Data Wrangling </h4>"
   ]
  },
  {
   "cell_type": "code",
   "execution_count": 12,
   "metadata": {},
   "outputs": [],
   "source": [
    "# Data need to clean and in good format before applying conducting the anlysis  "
   ]
  },
  {
   "cell_type": "code",
   "execution_count": 13,
   "metadata": {},
   "outputs": [],
   "source": [
    "data.drop(['Unnamed: 6', 'Unnamed: 7', 'Unnamed: 8', 'Unnamed: 9',\n",
    "       'Unnamed: 10', 'Unnamed: 11', 'Unnamed: 12'],axis=1,inplace=True)  # deleting unecessary columns androws"
   ]
  },
  {
   "cell_type": "code",
   "execution_count": 14,
   "metadata": {},
   "outputs": [
    {
     "data": {
      "text/html": [
       "<div>\n",
       "<style scoped>\n",
       "    .dataframe tbody tr th:only-of-type {\n",
       "        vertical-align: middle;\n",
       "    }\n",
       "\n",
       "    .dataframe tbody tr th {\n",
       "        vertical-align: top;\n",
       "    }\n",
       "\n",
       "    .dataframe thead th {\n",
       "        text-align: right;\n",
       "    }\n",
       "</style>\n",
       "<table border=\"1\" class=\"dataframe\">\n",
       "  <thead>\n",
       "    <tr style=\"text-align: right;\">\n",
       "      <th></th>\n",
       "      <th>Emp_ID</th>\n",
       "      <th>Emp_Age</th>\n",
       "      <th>Expereince</th>\n",
       "      <th>Sex</th>\n",
       "      <th>Education_in_Year</th>\n",
       "      <th>Annual_Rate</th>\n",
       "    </tr>\n",
       "  </thead>\n",
       "  <tbody>\n",
       "    <tr>\n",
       "      <th>0</th>\n",
       "      <td>2038</td>\n",
       "      <td>25</td>\n",
       "      <td>3</td>\n",
       "      <td>Male</td>\n",
       "      <td>2</td>\n",
       "      <td>47278.4</td>\n",
       "    </tr>\n",
       "    <tr>\n",
       "      <th>1</th>\n",
       "      <td>8703</td>\n",
       "      <td>32</td>\n",
       "      <td>3</td>\n",
       "      <td>Male</td>\n",
       "      <td>4</td>\n",
       "      <td>47902.4</td>\n",
       "    </tr>\n",
       "    <tr>\n",
       "      <th>2</th>\n",
       "      <td>8443</td>\n",
       "      <td>27</td>\n",
       "      <td>3</td>\n",
       "      <td>Male</td>\n",
       "      <td>4</td>\n",
       "      <td>47902.4</td>\n",
       "    </tr>\n",
       "    <tr>\n",
       "      <th>3</th>\n",
       "      <td>5114</td>\n",
       "      <td>29</td>\n",
       "      <td>3</td>\n",
       "      <td>Female</td>\n",
       "      <td>4</td>\n",
       "      <td>47902.4</td>\n",
       "    </tr>\n",
       "    <tr>\n",
       "      <th>4</th>\n",
       "      <td>1120</td>\n",
       "      <td>31</td>\n",
       "      <td>5</td>\n",
       "      <td>Male</td>\n",
       "      <td>2</td>\n",
       "      <td>40902.4</td>\n",
       "    </tr>\n",
       "  </tbody>\n",
       "</table>\n",
       "</div>"
      ],
      "text/plain": [
       "   Emp_ID   Emp_Age   Expereince      Sex  Education_in_Year   Annual_Rate\n",
       "0     2038        25            3    Male                   2      47278.4\n",
       "1     8703        32            3    Male                   4      47902.4\n",
       "2     8443        27            3    Male                   4      47902.4\n",
       "3     5114        29            3  Female                   4      47902.4\n",
       "4     1120        31            5    Male                   2      40902.4"
      ]
     },
     "execution_count": 14,
     "metadata": {},
     "output_type": "execute_result"
    }
   ],
   "source": [
    "data.head(5)  # data after cleansing "
   ]
  },
  {
   "cell_type": "code",
   "execution_count": 15,
   "metadata": {},
   "outputs": [],
   "source": [
    "# Encoding  \"Sex \" Where Male =1 and  Female = 2 \n",
    "# considering x as input agreement "
   ]
  },
  {
   "cell_type": "code",
   "execution_count": 16,
   "metadata": {},
   "outputs": [],
   "source": [
    "def tra_sex(x):\n",
    "    if x== 'Male':\n",
    "        return 1\n",
    "    if x== 'Female':\n",
    "        return 2"
   ]
  },
  {
   "cell_type": "code",
   "execution_count": 17,
   "metadata": {},
   "outputs": [
    {
     "data": {
      "text/html": [
       "<div>\n",
       "<style scoped>\n",
       "    .dataframe tbody tr th:only-of-type {\n",
       "        vertical-align: middle;\n",
       "    }\n",
       "\n",
       "    .dataframe tbody tr th {\n",
       "        vertical-align: top;\n",
       "    }\n",
       "\n",
       "    .dataframe thead th {\n",
       "        text-align: right;\n",
       "    }\n",
       "</style>\n",
       "<table border=\"1\" class=\"dataframe\">\n",
       "  <thead>\n",
       "    <tr style=\"text-align: right;\">\n",
       "      <th></th>\n",
       "      <th>Emp_ID</th>\n",
       "      <th>Emp_Age</th>\n",
       "      <th>Expereince</th>\n",
       "      <th>Sex</th>\n",
       "      <th>Education_in_Year</th>\n",
       "      <th>Annual_Rate</th>\n",
       "      <th>tra_sex</th>\n",
       "    </tr>\n",
       "  </thead>\n",
       "  <tbody>\n",
       "    <tr>\n",
       "      <th>0</th>\n",
       "      <td>2038</td>\n",
       "      <td>25</td>\n",
       "      <td>3</td>\n",
       "      <td>Male</td>\n",
       "      <td>2</td>\n",
       "      <td>47278.4</td>\n",
       "      <td>1</td>\n",
       "    </tr>\n",
       "    <tr>\n",
       "      <th>1</th>\n",
       "      <td>8703</td>\n",
       "      <td>32</td>\n",
       "      <td>3</td>\n",
       "      <td>Male</td>\n",
       "      <td>4</td>\n",
       "      <td>47902.4</td>\n",
       "      <td>1</td>\n",
       "    </tr>\n",
       "    <tr>\n",
       "      <th>2</th>\n",
       "      <td>8443</td>\n",
       "      <td>27</td>\n",
       "      <td>3</td>\n",
       "      <td>Male</td>\n",
       "      <td>4</td>\n",
       "      <td>47902.4</td>\n",
       "      <td>1</td>\n",
       "    </tr>\n",
       "    <tr>\n",
       "      <th>3</th>\n",
       "      <td>5114</td>\n",
       "      <td>29</td>\n",
       "      <td>3</td>\n",
       "      <td>Female</td>\n",
       "      <td>4</td>\n",
       "      <td>47902.4</td>\n",
       "      <td>2</td>\n",
       "    </tr>\n",
       "    <tr>\n",
       "      <th>4</th>\n",
       "      <td>1120</td>\n",
       "      <td>31</td>\n",
       "      <td>5</td>\n",
       "      <td>Male</td>\n",
       "      <td>2</td>\n",
       "      <td>40902.4</td>\n",
       "      <td>1</td>\n",
       "    </tr>\n",
       "    <tr>\n",
       "      <th>5</th>\n",
       "      <td>153</td>\n",
       "      <td>33</td>\n",
       "      <td>5</td>\n",
       "      <td>Female</td>\n",
       "      <td>2</td>\n",
       "      <td>44902.4</td>\n",
       "      <td>2</td>\n",
       "    </tr>\n",
       "  </tbody>\n",
       "</table>\n",
       "</div>"
      ],
      "text/plain": [
       "   Emp_ID   Emp_Age   Expereince      Sex  Education_in_Year   Annual_Rate  \\\n",
       "0     2038        25            3    Male                   2      47278.4   \n",
       "1     8703        32            3    Male                   4      47902.4   \n",
       "2     8443        27            3    Male                   4      47902.4   \n",
       "3     5114        29            3  Female                   4      47902.4   \n",
       "4     1120        31            5    Male                   2      40902.4   \n",
       "5      153        33            5  Female                   2      44902.4   \n",
       "\n",
       "   tra_sex  \n",
       "0        1  \n",
       "1        1  \n",
       "2        1  \n",
       "3        2  \n",
       "4        1  \n",
       "5        2  "
      ]
     },
     "execution_count": 17,
     "metadata": {},
     "output_type": "execute_result"
    }
   ],
   "source": [
    "data['tra_sex']=data['Sex'].apply(tra_sex)\n",
    "data.head(6)"
   ]
  },
  {
   "cell_type": "code",
   "execution_count": 18,
   "metadata": {},
   "outputs": [
    {
     "data": {
      "text/plain": [
       "['Emp_ID ',\n",
       " 'Emp_Age ',\n",
       " 'Expereince ',\n",
       " 'Sex',\n",
       " 'Education_in_Year ',\n",
       " 'Annual_Rate',\n",
       " 'tra_sex']"
      ]
     },
     "execution_count": 18,
     "metadata": {},
     "output_type": "execute_result"
    }
   ],
   "source": [
    "newData =list(data.columns)\n",
    "newData"
   ]
  },
  {
   "cell_type": "code",
   "execution_count": 19,
   "metadata": {},
   "outputs": [
    {
     "data": {
      "text/plain": [
       "['Emp_ID ',\n",
       " 'Emp_Age ',\n",
       " 'Expereince ',\n",
       " 'Sex',\n",
       " 'tra_sex',\n",
       " 'Education_in_Year ',\n",
       " 'Annual_Rate']"
      ]
     },
     "execution_count": 19,
     "metadata": {},
     "output_type": "execute_result"
    }
   ],
   "source": [
    "newData[4],newData[5],newData[6]=newData[6],newData[4],newData[5]\n",
    "newData                                                                # reordering the column"
   ]
  },
  {
   "cell_type": "code",
   "execution_count": 20,
   "metadata": {},
   "outputs": [],
   "source": [
    "data=data[newData]"
   ]
  },
  {
   "cell_type": "code",
   "execution_count": 21,
   "metadata": {},
   "outputs": [
    {
     "data": {
      "text/html": [
       "<div>\n",
       "<style scoped>\n",
       "    .dataframe tbody tr th:only-of-type {\n",
       "        vertical-align: middle;\n",
       "    }\n",
       "\n",
       "    .dataframe tbody tr th {\n",
       "        vertical-align: top;\n",
       "    }\n",
       "\n",
       "    .dataframe thead th {\n",
       "        text-align: right;\n",
       "    }\n",
       "</style>\n",
       "<table border=\"1\" class=\"dataframe\">\n",
       "  <thead>\n",
       "    <tr style=\"text-align: right;\">\n",
       "      <th></th>\n",
       "      <th>Emp_ID</th>\n",
       "      <th>Emp_Age</th>\n",
       "      <th>Expereince</th>\n",
       "      <th>Sex</th>\n",
       "      <th>tra_sex</th>\n",
       "      <th>Education_in_Year</th>\n",
       "      <th>Annual_Rate</th>\n",
       "    </tr>\n",
       "  </thead>\n",
       "  <tbody>\n",
       "    <tr>\n",
       "      <th>0</th>\n",
       "      <td>2038</td>\n",
       "      <td>25</td>\n",
       "      <td>3</td>\n",
       "      <td>Male</td>\n",
       "      <td>1</td>\n",
       "      <td>2</td>\n",
       "      <td>47278.4</td>\n",
       "    </tr>\n",
       "    <tr>\n",
       "      <th>1</th>\n",
       "      <td>8703</td>\n",
       "      <td>32</td>\n",
       "      <td>3</td>\n",
       "      <td>Male</td>\n",
       "      <td>1</td>\n",
       "      <td>4</td>\n",
       "      <td>47902.4</td>\n",
       "    </tr>\n",
       "    <tr>\n",
       "      <th>2</th>\n",
       "      <td>8443</td>\n",
       "      <td>27</td>\n",
       "      <td>3</td>\n",
       "      <td>Male</td>\n",
       "      <td>1</td>\n",
       "      <td>4</td>\n",
       "      <td>47902.4</td>\n",
       "    </tr>\n",
       "    <tr>\n",
       "      <th>3</th>\n",
       "      <td>5114</td>\n",
       "      <td>29</td>\n",
       "      <td>3</td>\n",
       "      <td>Female</td>\n",
       "      <td>2</td>\n",
       "      <td>4</td>\n",
       "      <td>47902.4</td>\n",
       "    </tr>\n",
       "    <tr>\n",
       "      <th>4</th>\n",
       "      <td>1120</td>\n",
       "      <td>31</td>\n",
       "      <td>5</td>\n",
       "      <td>Male</td>\n",
       "      <td>1</td>\n",
       "      <td>2</td>\n",
       "      <td>40902.4</td>\n",
       "    </tr>\n",
       "  </tbody>\n",
       "</table>\n",
       "</div>"
      ],
      "text/plain": [
       "   Emp_ID   Emp_Age   Expereince      Sex  tra_sex  Education_in_Year   \\\n",
       "0     2038        25            3    Male        1                   2   \n",
       "1     8703        32            3    Male        1                   4   \n",
       "2     8443        27            3    Male        1                   4   \n",
       "3     5114        29            3  Female        2                   4   \n",
       "4     1120        31            5    Male        1                   2   \n",
       "\n",
       "   Annual_Rate  \n",
       "0      47278.4  \n",
       "1      47902.4  \n",
       "2      47902.4  \n",
       "3      47902.4  \n",
       "4      40902.4  "
      ]
     },
     "execution_count": 21,
     "metadata": {},
     "output_type": "execute_result"
    }
   ],
   "source": [
    "data.head(5)"
   ]
  },
  {
   "cell_type": "code",
   "execution_count": 32,
   "metadata": {},
   "outputs": [
    {
     "data": {
      "text/plain": [
       "Female    270\n",
       "Male      230\n",
       "Name: Sex, dtype: int64"
      ]
     },
     "execution_count": 32,
     "metadata": {},
     "output_type": "execute_result"
    }
   ],
   "source": [
    "XX=data.iloc[:, 3].value_counts()\n",
    "XX"
   ]
  },
  {
   "cell_type": "code",
   "execution_count": 33,
   "metadata": {},
   "outputs": [
    {
     "data": {
      "text/plain": [
       "LabelEncoder()"
      ]
     },
     "execution_count": 33,
     "metadata": {},
     "output_type": "execute_result"
    }
   ],
   "source": [
    "from sklearn.preprocessing import LabelEncoder\n",
    "le=LabelEncoder()\n",
    "\n",
    "le.fit(data.iloc[:,4])\n"
   ]
  },
  {
   "cell_type": "code",
   "execution_count": null,
   "metadata": {},
   "outputs": [],
   "source": [
    "# using the dummy model accuaracy rate  , on ecan tell with the majority of "
   ]
  },
  {
   "cell_type": "code",
   "execution_count": 34,
   "metadata": {},
   "outputs": [
    {
     "data": {
      "text/plain": [
       "0.54"
      ]
     },
     "execution_count": 34,
     "metadata": {},
     "output_type": "execute_result"
    }
   ],
   "source": [
    "270/(270+230)"
   ]
  },
  {
   "cell_type": "code",
   "execution_count": null,
   "metadata": {},
   "outputs": [],
   "source": []
  },
  {
   "cell_type": "code",
   "execution_count": null,
   "metadata": {},
   "outputs": [],
   "source": []
  },
  {
   "cell_type": "markdown",
   "metadata": {},
   "source": [
    "<h3> Data Exploration</h3>"
   ]
  },
  {
   "cell_type": "code",
   "execution_count": 18,
   "metadata": {},
   "outputs": [
    {
     "data": {
      "text/plain": [
       "<seaborn.axisgrid.PairGrid at 0x1edbf78ae48>"
      ]
     },
     "execution_count": 18,
     "metadata": {},
     "output_type": "execute_result"
    },
    {
     "data": {
      "image/png": "[encoded data removed]",
      "text/plain": [
       "<Figure size 1080x1080 with 42 Axes>"
      ]
     },
     "metadata": {
      "needs_background": "light"
     },
     "output_type": "display_data"
    }
   ],
   "source": [
    "sb.pairplot(data)  # Visualizing the dataset to see if there exist some relationship "
   ]
  },
  {
   "cell_type": "code",
   "execution_count": 19,
   "metadata": {},
   "outputs": [
    {
     "data": {
      "text/html": [
       "<div>\n",
       "<style scoped>\n",
       "    .dataframe tbody tr th:only-of-type {\n",
       "        vertical-align: middle;\n",
       "    }\n",
       "\n",
       "    .dataframe tbody tr th {\n",
       "        vertical-align: top;\n",
       "    }\n",
       "\n",
       "    .dataframe thead th {\n",
       "        text-align: right;\n",
       "    }\n",
       "</style>\n",
       "<table border=\"1\" class=\"dataframe\">\n",
       "  <thead>\n",
       "    <tr style=\"text-align: right;\">\n",
       "      <th></th>\n",
       "      <th>Emp_ID</th>\n",
       "      <th>Emp_Age</th>\n",
       "      <th>Expereince</th>\n",
       "      <th>tra_sex</th>\n",
       "      <th>Education_in_Year</th>\n",
       "      <th>Annual_Rate</th>\n",
       "    </tr>\n",
       "  </thead>\n",
       "  <tbody>\n",
       "    <tr>\n",
       "      <th>Emp_ID</th>\n",
       "      <td>1.000000</td>\n",
       "      <td>0.007807</td>\n",
       "      <td>-0.030234</td>\n",
       "      <td>-0.029395</td>\n",
       "      <td>0.053870</td>\n",
       "      <td>0.005095</td>\n",
       "    </tr>\n",
       "    <tr>\n",
       "      <th>Emp_Age</th>\n",
       "      <td>0.007807</td>\n",
       "      <td>1.000000</td>\n",
       "      <td>0.746029</td>\n",
       "      <td>-0.101372</td>\n",
       "      <td>0.331715</td>\n",
       "      <td>0.823357</td>\n",
       "    </tr>\n",
       "    <tr>\n",
       "      <th>Expereince</th>\n",
       "      <td>-0.030234</td>\n",
       "      <td>0.746029</td>\n",
       "      <td>1.000000</td>\n",
       "      <td>-0.060127</td>\n",
       "      <td>-0.215284</td>\n",
       "      <td>0.705731</td>\n",
       "    </tr>\n",
       "    <tr>\n",
       "      <th>tra_sex</th>\n",
       "      <td>-0.029395</td>\n",
       "      <td>-0.101372</td>\n",
       "      <td>-0.060127</td>\n",
       "      <td>1.000000</td>\n",
       "      <td>-0.043105</td>\n",
       "      <td>-0.065106</td>\n",
       "    </tr>\n",
       "    <tr>\n",
       "      <th>Education_in_Year</th>\n",
       "      <td>0.053870</td>\n",
       "      <td>0.331715</td>\n",
       "      <td>-0.215284</td>\n",
       "      <td>-0.043105</td>\n",
       "      <td>1.000000</td>\n",
       "      <td>0.424159</td>\n",
       "    </tr>\n",
       "    <tr>\n",
       "      <th>Annual_Rate</th>\n",
       "      <td>0.005095</td>\n",
       "      <td>0.823357</td>\n",
       "      <td>0.705731</td>\n",
       "      <td>-0.065106</td>\n",
       "      <td>0.424159</td>\n",
       "      <td>1.000000</td>\n",
       "    </tr>\n",
       "  </tbody>\n",
       "</table>\n",
       "</div>"
      ],
      "text/plain": [
       "                     Emp_ID   Emp_Age   Expereince    tra_sex  \\\n",
       "Emp_ID              1.000000  0.007807    -0.030234 -0.029395   \n",
       "Emp_Age             0.007807  1.000000     0.746029 -0.101372   \n",
       "Expereince         -0.030234  0.746029     1.000000 -0.060127   \n",
       "tra_sex            -0.029395 -0.101372    -0.060127  1.000000   \n",
       "Education_in_Year   0.053870  0.331715    -0.215284 -0.043105   \n",
       "Annual_Rate         0.005095  0.823357     0.705731 -0.065106   \n",
       "\n",
       "                    Education_in_Year   Annual_Rate  \n",
       "Emp_ID                        0.053870     0.005095  \n",
       "Emp_Age                       0.331715     0.823357  \n",
       "Expereince                   -0.215284     0.705731  \n",
       "tra_sex                      -0.043105    -0.065106  \n",
       "Education_in_Year             1.000000     0.424159  \n",
       "Annual_Rate                   0.424159     1.000000  "
      ]
     },
     "execution_count": 19,
     "metadata": {},
     "output_type": "execute_result"
    }
   ],
   "source": [
    "dataCorr = data.corr\n",
    "dataCorr() "
   ]
  },
  {
   "cell_type": "code",
   "execution_count": 20,
   "metadata": {},
   "outputs": [
    {
     "data": {
      "image/png": "[encoded data removed]",
      "text/plain": [
       "<Figure size 864x576 with 2 Axes>"
      ]
     },
     "metadata": {
      "needs_background": "light"
     },
     "output_type": "display_data"
    }
   ],
   "source": [
    "plt.figure(figsize=(12,8))\n",
    "sb.heatmap(data.corr(),annot=True )\n",
    "plt.show()                # From the heatmap, strong correlation the light color show strong \n",
    "                          # correlation whilit the dark correlation show us the strong negative coorelation."
   ]
  },
  {
   "cell_type": "markdown",
   "metadata": {},
   "source": [
    "<h4>Feature Selection</h4>"
   ]
  },
  {
   "cell_type": "code",
   "execution_count": 21,
   "metadata": {},
   "outputs": [],
   "source": [
    "                     # From  the above , it shows that there is positve relationship between \n",
    "                     #Total household income  nnd Total Expenditure"
   ]
  },
  {
   "cell_type": "code",
   "execution_count": 22,
   "metadata": {},
   "outputs": [],
   "source": [
    "X= data[['Emp_Age ', 'Expereince ','tra_sex', 'Education_in_Year ']]\n",
    "y= data['Annual_Rate']"
   ]
  },
  {
   "cell_type": "code",
   "execution_count": 23,
   "metadata": {},
   "outputs": [
    {
     "data": {
      "text/plain": [
       "(500,)"
      ]
     },
     "execution_count": 23,
     "metadata": {},
     "output_type": "execute_result"
    }
   ],
   "source": [
    "y.shape"
   ]
  },
  {
   "cell_type": "code",
   "execution_count": 24,
   "metadata": {},
   "outputs": [
    {
     "data": {
      "text/plain": [
       "Index(['Emp_ID ', 'Emp_Age ', 'Expereince ', 'Sex', 'tra_sex',\n",
       "       'Education_in_Year ', 'Annual_Rate'],\n",
       "      dtype='object')"
      ]
     },
     "execution_count": 24,
     "metadata": {},
     "output_type": "execute_result"
    }
   ],
   "source": [
    "data.columns"
   ]
  },
  {
   "cell_type": "code",
   "execution_count": 25,
   "metadata": {},
   "outputs": [],
   "source": [
    "X_train, X_test, y_train, y_test = train_test_split(X, y, test_size=0.2, random_state=1)"
   ]
  },
  {
   "cell_type": "code",
   "execution_count": 26,
   "metadata": {},
   "outputs": [
    {
     "data": {
      "text/plain": [
       "(400, 4)"
      ]
     },
     "execution_count": 26,
     "metadata": {},
     "output_type": "execute_result"
    }
   ],
   "source": [
    "X_train.shape"
   ]
  },
  {
   "cell_type": "code",
   "execution_count": 27,
   "metadata": {},
   "outputs": [
    {
     "data": {
      "text/plain": [
       "(400,)"
      ]
     },
     "execution_count": 27,
     "metadata": {},
     "output_type": "execute_result"
    }
   ],
   "source": [
    "y_train.shape"
   ]
  },
  {
   "cell_type": "code",
   "execution_count": 28,
   "metadata": {},
   "outputs": [
    {
     "data": {
      "text/plain": [
       "LinearRegression(copy_X=True, fit_intercept=True, n_jobs=None,\n",
       "         normalize=False)"
      ]
     },
     "execution_count": 28,
     "metadata": {},
     "output_type": "execute_result"
    }
   ],
   "source": [
    "reg=LinearRegression()\n",
    "reg.fit(X , y)"
   ]
  },
  {
   "cell_type": "code",
   "execution_count": 29,
   "metadata": {},
   "outputs": [
    {
     "data": {
      "text/plain": [
       "28570.882757554788"
      ]
     },
     "execution_count": 29,
     "metadata": {},
     "output_type": "execute_result"
    }
   ],
   "source": [
    "reg.intercept_"
   ]
  },
  {
   "cell_type": "code",
   "execution_count": 30,
   "metadata": {},
   "outputs": [
    {
     "data": {
      "text/plain": [
       "array([-1.11634930e+00,  1.40853220e+03,  1.98486961e+02,  3.81914878e+03])"
      ]
     },
     "execution_count": 30,
     "metadata": {},
     "output_type": "execute_result"
    }
   ],
   "source": [
    "reg.coef_"
   ]
  },
  {
   "cell_type": "code",
   "execution_count": 31,
   "metadata": {},
   "outputs": [
    {
     "data": {
      "text/plain": [
       "0.8461934297997278"
      ]
     },
     "execution_count": 31,
     "metadata": {},
     "output_type": "execute_result"
    }
   ],
   "source": [
    "reg.score(X,y)"
   ]
  },
  {
   "cell_type": "code",
   "execution_count": 32,
   "metadata": {},
   "outputs": [
    {
     "data": {
      "text/plain": [
       "LinearRegression(copy_X=True, fit_intercept=True, n_jobs=None,\n",
       "         normalize=False)"
      ]
     },
     "execution_count": 32,
     "metadata": {},
     "output_type": "execute_result"
    }
   ],
   "source": [
    "reg.fit(data[['Emp_Age ', 'Expereince ', 'tra_sex', 'Education_in_Year ']],data.Annual_Rate)"
   ]
  },
  {
   "cell_type": "code",
   "execution_count": 33,
   "metadata": {},
   "outputs": [
    {
     "data": {
      "text/plain": [
       "array([-1.11634930e+00,  1.40853220e+03,  1.98486961e+02,  3.81914878e+03])"
      ]
     },
     "execution_count": 33,
     "metadata": {},
     "output_type": "execute_result"
    }
   ],
   "source": [
    "reg.coef_"
   ]
  },
  {
   "cell_type": "code",
   "execution_count": 34,
   "metadata": {},
   "outputs": [
    {
     "data": {
      "text/plain": [
       "28570.882757554788"
      ]
     },
     "execution_count": 34,
     "metadata": {},
     "output_type": "execute_result"
    }
   ],
   "source": [
    "reg.intercept_"
   ]
  },
  {
   "cell_type": "code",
   "execution_count": 35,
   "metadata": {},
   "outputs": [
    {
     "data": {
      "text/plain": [
       "array([52458.08584919])"
      ]
     },
     "execution_count": 35,
     "metadata": {},
     "output_type": "execute_result"
    }
   ],
   "source": [
    "reg.predict([[35,6,1,4]])"
   ]
  },
  {
   "cell_type": "code",
   "execution_count": 36,
   "metadata": {},
   "outputs": [
    {
     "data": {
      "text/plain": [
       "0.8461934297997278"
      ]
     },
     "execution_count": 36,
     "metadata": {},
     "output_type": "execute_result"
    }
   ],
   "source": [
    "reg.score(X,y)   # Model evaluation "
   ]
  },
  {
   "cell_type": "code",
   "execution_count": null,
   "metadata": {},
   "outputs": [],
   "source": []
  },
  {
   "cell_type": "code",
   "execution_count": null,
   "metadata": {},
   "outputs": [],
   "source": []
  },
  {
   "cell_type": "code",
   "execution_count": null,
   "metadata": {},
   "outputs": [],
   "source": []
  }
 ],
 "metadata": {
  "kernelspec": {
   "display_name": "Python 3",
   "language": "python",
   "name": "python3"
  },
  "language_info": {
   "codemirror_mode": {
    "name": "ipython",
    "version": 3
   },
   "file_extension": ".py",
   "mimetype": "text/x-python",
   "name": "python",
   "nbconvert_exporter": "python",
   "pygments_lexer": "ipython3",
   "version": "3.7.1"
  }
 },
 "nbformat": 4,
 "nbformat_minor": 2
}
